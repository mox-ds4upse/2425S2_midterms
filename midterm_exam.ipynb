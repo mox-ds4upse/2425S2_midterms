{
 "cells": [
  {
   "cell_type": "markdown",
   "metadata": {},
   "source": [
    "# Econ 138 Midterm Exam – Data Science for Economists\n",
    "\n",
    "Author: YOUR NAME  \n",
    "GitHub: YOUR PROFILE URL  \n",
    "Date: April 2025\n",
    "\n",
    "> All code is original, written with clarity and good practice.  \n",
    "> PEP8 styling, clean variable names, and structured sections are observed."
   ]
  },
  {
   "cell_type": "code",
   "execution_count": null,
   "metadata": {},
   "outputs": [],
   "source": []
  },
  {
   "cell_type": "markdown",
   "metadata": {},
   "source": [
    "## Final Code Quality Checklist\n",
    "\n",
    "Before submitting, ask yourself:\n",
    "- [ ] Are my variable names meaningful and readable?\n",
    "- [ ] Have I removed all unused code or variables?\n",
    "- [ ] Are my plots labeled clearly (titles, axes, legends)?\n",
    "- [ ] Have I used Markdown to explain each major section?\n",
    "- [ ] Is my code easy to follow and consistent in style?"
   ]
  }
 ],
 "metadata": {
  "language_info": {
   "name": "python"
  }
 },
 "nbformat": 4,
 "nbformat_minor": 2
}
